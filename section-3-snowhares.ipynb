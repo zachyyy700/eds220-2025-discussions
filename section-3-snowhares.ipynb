{
 "cells": [
  {
   "cell_type": "markdown",
   "id": "a467fd04",
   "metadata": {},
   "source": [
    "## 2. Image"
   ]
  },
  {
   "cell_type": "markdown",
   "id": "5d7d67fc",
   "metadata": {},
   "source": [
    "![Bunny](https://upload.wikimedia.org/wikipedia/commons/8/8a/SNOWSHOE_HARE_%28Lepus_americanus%29_%285-28-2015%29_quoddy_head%2C_washington_co%2C_maine_-01_%2818988734889%29.jpg)"
   ]
  },
  {
   "cell_type": "code",
   "execution_count": 2,
   "id": "84abbe83",
   "metadata": {},
   "outputs": [],
   "source": [
    "import pandas as pd"
   ]
  },
  {
   "cell_type": "code",
   "execution_count": 3,
   "id": "4730f668",
   "metadata": {},
   "outputs": [],
   "source": [
    "URL = 'https://pasta.lternet.edu/package/data/eml/knb-lter-bnz/55/22/f01f5d71be949b8c700b6ecd1c42c701'\n",
    "hares = pd.read_csv(URL)"
   ]
  },
  {
   "cell_type": "code",
   "execution_count": 4,
   "id": "3116bc74",
   "metadata": {},
   "outputs": [
    {
     "data": {
      "text/plain": [
       "(3380, 14)"
      ]
     },
     "execution_count": 4,
     "metadata": {},
     "output_type": "execute_result"
    }
   ],
   "source": [
    "hares.shape"
   ]
  },
  {
   "cell_type": "code",
   "execution_count": 5,
   "id": "3f2dd838",
   "metadata": {},
   "outputs": [
    {
     "data": {
      "application/vnd.microsoft.datawrangler.viewer.v0+json": {
       "columns": [
        {
         "name": "index",
         "rawType": "object",
         "type": "string"
        },
        {
         "name": "0",
         "rawType": "object",
         "type": "unknown"
        }
       ],
       "ref": "26d1b6e4-fb67-498e-8dfc-7899534c21ee",
       "rows": [
        [
         "date",
         "object"
        ],
        [
         "time",
         "object"
        ],
        [
         "grid",
         "object"
        ],
        [
         "trap",
         "object"
        ],
        [
         "l_ear",
         "object"
        ],
        [
         "r_ear",
         "object"
        ],
        [
         "sex",
         "object"
        ],
        [
         "age",
         "object"
        ],
        [
         "weight",
         "float64"
        ],
        [
         "hindft",
         "float64"
        ],
        [
         "notes",
         "object"
        ],
        [
         "b_key",
         "float64"
        ],
        [
         "session_id",
         "int64"
        ],
        [
         "study",
         "object"
        ]
       ],
       "shape": {
        "columns": 1,
        "rows": 14
       }
      },
      "text/plain": [
       "date           object\n",
       "time           object\n",
       "grid           object\n",
       "trap           object\n",
       "l_ear          object\n",
       "r_ear          object\n",
       "sex            object\n",
       "age            object\n",
       "weight        float64\n",
       "hindft        float64\n",
       "notes          object\n",
       "b_key         float64\n",
       "session_id      int64\n",
       "study          object\n",
       "dtype: object"
      ]
     },
     "execution_count": 5,
     "metadata": {},
     "output_type": "execute_result"
    }
   ],
   "source": [
    "hares.dtypes"
   ]
  },
  {
   "cell_type": "markdown",
   "id": "ed033a29",
   "metadata": {},
   "source": [
    "Note `date` column is object type"
   ]
  },
  {
   "cell_type": "code",
   "execution_count": 9,
   "id": "91d5630c",
   "metadata": {},
   "outputs": [
    {
     "name": "stdout",
     "output_type": "stream",
     "text": [
      "<class 'pandas.core.frame.DataFrame'>\n",
      "RangeIndex: 3380 entries, 0 to 3379\n",
      "Data columns (total 14 columns):\n",
      " #   Column      Non-Null Count  Dtype  \n",
      "---  ------      --------------  -----  \n",
      " 0   date        3380 non-null   object \n",
      " 1   time        264 non-null    object \n",
      " 2   grid        3380 non-null   object \n",
      " 3   trap        3368 non-null   object \n",
      " 4   l_ear       3332 non-null   object \n",
      " 5   r_ear       3211 non-null   object \n",
      " 6   sex         3028 non-null   object \n",
      " 7   age         1269 non-null   object \n",
      " 8   weight      2845 non-null   float64\n",
      " 9   hindft      1633 non-null   float64\n",
      " 10  notes       243 non-null    object \n",
      " 11  b_key       3333 non-null   float64\n",
      " 12  session_id  3380 non-null   int64  \n",
      " 13  study       3217 non-null   object \n",
      "dtypes: float64(3), int64(1), object(10)\n",
      "memory usage: 369.8+ KB\n"
     ]
    }
   ],
   "source": [
    "hares.info()"
   ]
  },
  {
   "cell_type": "code",
   "execution_count": 17,
   "id": "ee2f9ea5",
   "metadata": {},
   "outputs": [
    {
     "name": "stdout",
     "output_type": "stream",
     "text": [
      "Minimum Weights (g) & Hind Feet Ratio:\n",
      "0.0g\n",
      "60.0\n",
      "Maximum Weights (g) & Hind Feet Ratio:\n",
      "2365.0g\n",
      "160.0\n"
     ]
    }
   ],
   "source": [
    "print(\"Minimum Weights (g) & Hind Feet Ratio:\")\n",
    "print(f'{min(hares.weight)}g')\n",
    "print(f'{min(hares.hindft)}')\n",
    "print(\"Maximum Weights (g) & Hind Feet Ratio:\")\n",
    "print(f'{max(hares.weight)}g')\n",
    "print(f'{max(hares.hindft)}')\n"
   ]
  },
  {
   "cell_type": "code",
   "execution_count": null,
   "id": "8816b41c",
   "metadata": {},
   "outputs": [],
   "source": []
  }
 ],
 "metadata": {
  "kernelspec": {
   "display_name": "EDS-220 env",
   "language": "python",
   "name": "eds220-env"
  },
  "language_info": {
   "codemirror_mode": {
    "name": "ipython",
    "version": 3
   },
   "file_extension": ".py",
   "mimetype": "text/x-python",
   "name": "python",
   "nbconvert_exporter": "python",
   "pygments_lexer": "ipython3",
   "version": "3.11.4"
  }
 },
 "nbformat": 4,
 "nbformat_minor": 5
}

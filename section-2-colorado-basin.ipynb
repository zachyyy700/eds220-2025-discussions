{
 "cells": [
  {
   "cell_type": "markdown",
   "id": "a2a3c6c7",
   "metadata": {},
   "source": [
    "# Discussion 2: Colorado River Basin Conflict"
   ]
  },
  {
   "cell_type": "code",
   "execution_count": 2,
   "id": "83f3dd89",
   "metadata": {},
   "outputs": [],
   "source": [
    "import pandas as pd\n",
    "\n",
    "df = pd.read_csv('data/colorado_basin.csv')"
   ]
  },
  {
   "cell_type": "code",
   "execution_count": null,
   "id": "ead81072",
   "metadata": {},
   "outputs": [],
   "source": []
  }
 ],
 "metadata": {
  "kernelspec": {
   "display_name": "eds220-env",
   "language": "python",
   "name": "python3"
  },
  "language_info": {
   "codemirror_mode": {
    "name": "ipython",
    "version": 3
   },
   "file_extension": ".py",
   "mimetype": "text/x-python",
   "name": "python",
   "nbconvert_exporter": "python",
   "pygments_lexer": "ipython3",
   "version": "3.11.4"
  }
 },
 "nbformat": 4,
 "nbformat_minor": 5
}

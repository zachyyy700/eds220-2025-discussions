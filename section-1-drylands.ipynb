{
 "cells": [
  {
   "cell_type": "markdown",
   "id": "c07df603",
   "metadata": {},
   "source": [
    "# Prey Species in California Drylands"
   ]
  },
  {
   "cell_type": "markdown",
   "id": "444b756e",
   "metadata": {},
   "source": [
    "## 1. Archive Exploration"
   ]
  },
  {
   "cell_type": "markdown",
   "id": "afd57484",
   "metadata": {},
   "source": [
    "Dataset description:"
   ]
  },
  {
   "cell_type": "markdown",
   "id": "ccdccce5",
   "metadata": {},
   "source": [
    "## 2. Metadata Exploration"
   ]
  },
  {
   "cell_type": "code",
   "execution_count": null,
   "id": "6ec3d146",
   "metadata": {},
   "outputs": [],
   "source": [
    "# Import pandas\n",
    "import pandas as pd"
   ]
  },
  {
   "cell_type": "code",
   "execution_count": 10,
   "id": "eab044f0",
   "metadata": {},
   "outputs": [],
   "source": [
    "# Load metadata\n",
    "metadata = pd.read_csv('https://knb.ecoinformatics.org/knb/d1/mn/v2/object/urn%3Auuid%3A3baf7289-bf90-4db3-ad11-58785c09b26e')\n"
   ]
  },
  {
   "cell_type": "markdown",
   "id": "40956b14",
   "metadata": {},
   "source": [
    "## 3. Data Loading"
   ]
  },
  {
   "cell_type": "code",
   "execution_count": null,
   "id": "928564f4",
   "metadata": {},
   "outputs": [],
   "source": [
    "# Load prey data\n",
    "prey = pd.read_csv('https://knb.ecoinformatics.org/knb/d1/mn/v2/object/urn%3Auuid%3A23d42528-1048-45d4-85d1-7e13b666e744')"
   ]
  },
  {
   "cell_type": "code",
   "execution_count": null,
   "id": "47dd0e2f",
   "metadata": {},
   "outputs": [],
   "source": []
  }
 ],
 "metadata": {
  "kernelspec": {
   "display_name": "eds220-env",
   "language": "python",
   "name": "python3"
  },
  "language_info": {
   "codemirror_mode": {
    "name": "ipython",
    "version": 3
   },
   "file_extension": ".py",
   "mimetype": "text/x-python",
   "name": "python",
   "nbconvert_exporter": "python",
   "pygments_lexer": "ipython3",
   "version": "3.11.4"
  }
 },
 "nbformat": 4,
 "nbformat_minor": 5
}
